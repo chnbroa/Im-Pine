{
 "cells": [
  {
   "cell_type": "code",
   "execution_count": 15,
   "id": "e502298f",
   "metadata": {},
   "outputs": [],
   "source": [
    "import numpy as np\n",
    "import mouse\n",
    "import cv2"
   ]
  },
  {
   "cell_type": "code",
   "execution_count": null,
   "id": "15b3ba65",
   "metadata": {},
   "outputs": [],
   "source": [
    "cam = cv2.VideoCapture(0)  # 노트북 웹캠을 카메라로 사용\n",
    "cam.set(cv2.CAP_PROP_FRAME_WIDTH, 1024)  # 너비\n",
    "cam.set(cv2.CAP_PROP_FRAME_HEIGHT, 1024)  # 높이\n",
    "\n",
    "tog = False\n",
    "sample_num=0\n",
    "while(True):\n",
    "    ret, frame = cam.read()  # 프레임 단위로 받아옴\n",
    "    frame = cv2.flip(frame, 1)  # 좌우 반전\n",
    "    #마우스 오른쪽 클릭시 저장\n",
    "    if mouse.is_pressed(\"right\"):\n",
    "        tog=True\n",
    "    if tog:\n",
    "        if sample_num % 5 == 0:\n",
    "            frame_resize = cv2.resize(frame, (512, 512)) # , interpolation=cv2.INTER_AREA\n",
    "            cv2.imwrite(f'./data/cam_save/{sample_num}.jpg',frame_resize)\n",
    "            print(f'{sample_num}저장')\n",
    "        sample_num = sample_num + 1\n",
    "    cv2.imshow('test', frame)\n",
    "    k = cv2.waitKey(30)  # 안에 들어가는 숫자는 ms단위 시간만큼 기다리고, 키보드 입력을 기다림 (0이면 무한대기)\n",
    "    if k == 27:  # Esc 키를 누르면 종료\n",
    "        break\n",
    "cam.release()  # 리소스 자원회수\n",
    "cv2.destroyAllWindows()  # 창을 닫아준다.\n"
   ]
  },
  {
   "cell_type": "code",
   "execution_count": null,
   "id": "59f1c6ef",
   "metadata": {},
   "outputs": [],
   "source": []
  }
 ],
 "metadata": {
  "kernelspec": {
   "display_name": "Python 3 (ipykernel)",
   "language": "python",
   "name": "python3"
  },
  "language_info": {
   "codemirror_mode": {
    "name": "ipython",
    "version": 3
   },
   "file_extension": ".py",
   "mimetype": "text/x-python",
   "name": "python",
   "nbconvert_exporter": "python",
   "pygments_lexer": "ipython3",
   "version": "3.7.13"
  }
 },
 "nbformat": 4,
 "nbformat_minor": 5
}
